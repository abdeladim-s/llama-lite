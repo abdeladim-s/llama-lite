{
 "cells": [
  {
   "cell_type": "markdown",
   "source": [
    "# LLaMA-Lite: A Multi-Backend LLaMA implementation using keras-core"
   ],
   "metadata": {
    "collapsed": false
   },
   "id": "3485c2d53c5e3f8"
  },
  {
   "cell_type": "markdown",
   "source": [
    "# Installation"
   ],
   "metadata": {
    "collapsed": false
   },
   "id": "f7695106f51de8fa"
  },
  {
   "cell_type": "code",
   "execution_count": null,
   "id": "initial_id",
   "metadata": {
    "collapsed": true
   },
   "outputs": [],
   "source": [
    "!git clone https://github.com/abdeladim-s/llama-lite\n",
    "%cd llama-lite\n",
    "!pip install -e ."
   ]
  },
  {
   "cell_type": "markdown",
   "source": [
    "# Setup the backend of your choice"
   ],
   "metadata": {
    "collapsed": false
   },
   "id": "661e9a3c4389240d"
  },
  {
   "cell_type": "code",
   "execution_count": 1,
   "outputs": [],
   "source": [
    "import os \n",
    "\n",
    "os.environ[\"KERAS_BACKEND\"] = \"torch\"\n",
    "# os.environ[\"KERAS_BACKEND\"] = \"tensorflow\"\n",
    "# os.environ[\"KERAS_BACKEND\"] = \"jax\""
   ],
   "metadata": {
    "collapsed": false,
    "ExecuteTime": {
     "end_time": "2023-09-07T03:35:58.564621106Z",
     "start_time": "2023-09-07T03:35:58.549717110Z"
    }
   },
   "id": "477e375b15c744db"
  },
  {
   "cell_type": "markdown",
   "source": [
    "# Download the tinyllama model checkpoints from HF"
   ],
   "metadata": {
    "collapsed": false
   },
   "id": "5e04ac76b0a47934"
  },
  {
   "cell_type": "code",
   "execution_count": null,
   "outputs": [],
   "source": [
    "# https://huggingface.co/karpathy/tinyllamas/tree/main\n",
    "\n",
    "# Download the 15M model for example\n",
    "!wget https://huggingface.co/karpathy/tinyllamas/resolve/main/stories15M.pt"
   ],
   "metadata": {
    "collapsed": false
   },
   "id": "4f8f5db4d5452750"
  },
  {
   "cell_type": "markdown",
   "source": [
    "# Load the model"
   ],
   "metadata": {
    "collapsed": false
   },
   "id": "d4314c99b5e5b576"
  },
  {
   "cell_type": "code",
   "execution_count": 3,
   "outputs": [],
   "source": [
    "from llama_lite.model import get_model_from_ckpt\n",
    "\n",
    "model = get_model_from_ckpt('stories15M.pt')"
   ],
   "metadata": {
    "collapsed": false,
    "ExecuteTime": {
     "end_time": "2023-09-07T03:36:19.406124143Z",
     "start_time": "2023-09-07T03:36:18.477439265Z"
    }
   },
   "id": "5d560db4fc61cffe"
  },
  {
   "cell_type": "markdown",
   "source": [
    "# Run a simple generate"
   ],
   "metadata": {
    "collapsed": false
   },
   "id": "f8f456eaef4863e2"
  },
  {
   "cell_type": "code",
   "execution_count": 8,
   "outputs": [
    {
     "ename": "RuntimeError",
     "evalue": "\nattribute lookup is not defined on python value of type 'Transformer':\n  File \"/tmp/ipykernel_28433/208249254.py\", line 8\n@torch.jit.script\ndef call_generate():\n    model.generate(prompt=prompt, max_new_tokens=max_new_tokens)\n    ~~~~~~~~~~~~~~ <--- HERE\n",
     "output_type": "error",
     "traceback": [
      "\u001B[0;31m---------------------------------------------------------------------------\u001B[0m",
      "\u001B[0;31mRuntimeError\u001B[0m                              Traceback (most recent call last)",
      "Cell \u001B[0;32mIn[8], line 7\u001B[0m\n\u001B[1;32m      2\u001B[0m max_new_tokens \u001B[38;5;241m=\u001B[39m \u001B[38;5;241m50\u001B[39m\n\u001B[1;32m      4\u001B[0m \u001B[38;5;28;01mimport\u001B[39;00m \u001B[38;5;21;01mtorch\u001B[39;00m\n\u001B[1;32m      6\u001B[0m \u001B[38;5;129;43m@torch\u001B[39;49m\u001B[38;5;241;43m.\u001B[39;49m\u001B[43mjit\u001B[49m\u001B[38;5;241;43m.\u001B[39;49m\u001B[43mscript\u001B[49m\n\u001B[0;32m----> 7\u001B[0m \u001B[38;5;28;43;01mdef\u001B[39;49;00m\u001B[43m \u001B[49m\u001B[38;5;21;43mcall_generate\u001B[39;49m\u001B[43m(\u001B[49m\u001B[43m)\u001B[49m\u001B[43m:\u001B[49m\n\u001B[1;32m      8\u001B[0m \u001B[43m    \u001B[49m\u001B[43mmodel\u001B[49m\u001B[38;5;241;43m.\u001B[39;49m\u001B[43mgenerate\u001B[49m\u001B[43m(\u001B[49m\u001B[43mprompt\u001B[49m\u001B[38;5;241;43m=\u001B[39;49m\u001B[43mprompt\u001B[49m\u001B[43m,\u001B[49m\u001B[43m \u001B[49m\u001B[43mmax_new_tokens\u001B[49m\u001B[38;5;241;43m=\u001B[39;49m\u001B[43mmax_new_tokens\u001B[49m\u001B[43m)\u001B[49m\n\u001B[1;32m     10\u001B[0m call_generate()\n",
      "File \u001B[0;32m~/venvs/ml/lib/python3.10/site-packages/torch/jit/_script.py:1341\u001B[0m, in \u001B[0;36mscript\u001B[0;34m(obj, optimize, _frames_up, _rcb, example_inputs)\u001B[0m\n\u001B[1;32m   1339\u001B[0m \u001B[38;5;28;01mif\u001B[39;00m _rcb \u001B[38;5;129;01mis\u001B[39;00m \u001B[38;5;28;01mNone\u001B[39;00m:\n\u001B[1;32m   1340\u001B[0m     _rcb \u001B[38;5;241m=\u001B[39m _jit_internal\u001B[38;5;241m.\u001B[39mcreateResolutionCallbackFromClosure(obj)\n\u001B[0;32m-> 1341\u001B[0m fn \u001B[38;5;241m=\u001B[39m \u001B[43mtorch\u001B[49m\u001B[38;5;241;43m.\u001B[39;49m\u001B[43m_C\u001B[49m\u001B[38;5;241;43m.\u001B[39;49m\u001B[43m_jit_script_compile\u001B[49m\u001B[43m(\u001B[49m\n\u001B[1;32m   1342\u001B[0m \u001B[43m    \u001B[49m\u001B[43mqualified_name\u001B[49m\u001B[43m,\u001B[49m\u001B[43m \u001B[49m\u001B[43mast\u001B[49m\u001B[43m,\u001B[49m\u001B[43m \u001B[49m\u001B[43m_rcb\u001B[49m\u001B[43m,\u001B[49m\u001B[43m \u001B[49m\u001B[43mget_default_args\u001B[49m\u001B[43m(\u001B[49m\u001B[43mobj\u001B[49m\u001B[43m)\u001B[49m\n\u001B[1;32m   1343\u001B[0m \u001B[43m\u001B[49m\u001B[43m)\u001B[49m\n\u001B[1;32m   1344\u001B[0m \u001B[38;5;66;03m# Forward docstrings\u001B[39;00m\n\u001B[1;32m   1345\u001B[0m fn\u001B[38;5;241m.\u001B[39m\u001B[38;5;18m__doc__\u001B[39m \u001B[38;5;241m=\u001B[39m obj\u001B[38;5;241m.\u001B[39m\u001B[38;5;18m__doc__\u001B[39m\n",
      "\u001B[0;31mRuntimeError\u001B[0m: \nattribute lookup is not defined on python value of type 'Transformer':\n  File \"/tmp/ipykernel_28433/208249254.py\", line 8\n@torch.jit.script\ndef call_generate():\n    model.generate(prompt=prompt, max_new_tokens=max_new_tokens)\n    ~~~~~~~~~~~~~~ <--- HERE\n"
     ]
    }
   ],
   "source": [
    "prompt = \"Once upon a time,\"\n",
    "max_new_tokens = 50\n",
    "model.generate(prompt=prompt, max_new_tokens=max_new_tokens)"
   ],
   "metadata": {
    "collapsed": false,
    "ExecuteTime": {
     "end_time": "2023-09-07T03:37:34.287949185Z",
     "start_time": "2023-09-07T03:37:34.230536583Z"
    }
   },
   "id": "8f0738e427c8a9bd"
  }
 ],
 "metadata": {
  "kernelspec": {
   "display_name": "Python 3",
   "language": "python",
   "name": "python3"
  },
  "language_info": {
   "codemirror_mode": {
    "name": "ipython",
    "version": 2
   },
   "file_extension": ".py",
   "mimetype": "text/x-python",
   "name": "python",
   "nbconvert_exporter": "python",
   "pygments_lexer": "ipython2",
   "version": "2.7.6"
  }
 },
 "nbformat": 4,
 "nbformat_minor": 5
}
