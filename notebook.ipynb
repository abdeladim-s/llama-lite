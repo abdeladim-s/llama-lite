{
 "cells": [
  {
   "cell_type": "markdown",
   "source": [
    "# MB-LLaMA (Multi-Backend LLaMA implementation using keras-core"
   ],
   "metadata": {
    "collapsed": false
   },
   "id": "3485c2d53c5e3f8"
  },
  {
   "cell_type": "markdown",
   "source": [
    "# Installation"
   ],
   "metadata": {
    "collapsed": false
   },
   "id": "f7695106f51de8fa"
  },
  {
   "cell_type": "code",
   "execution_count": null,
   "id": "initial_id",
   "metadata": {
    "collapsed": true
   },
   "outputs": [],
   "source": [
    "!pip install git+https://github.com/abdeladim-s/mbllama"
   ]
  },
  {
   "cell_type": "markdown",
   "source": [
    "# Setup the backend of your choice"
   ],
   "metadata": {
    "collapsed": false
   },
   "id": "661e9a3c4389240d"
  },
  {
   "cell_type": "code",
   "execution_count": null,
   "outputs": [],
   "source": [
    "import os \n",
    "\n",
    "os.environ[\"KERAS_BACKEND\"] = \"torch\"\n",
    "# os.environ[\"KERAS_BACKEND\"] = \"tensorflow\"\n",
    "# os.environ[\"KERAS_BACKEND\"] = \"jax\""
   ],
   "metadata": {
    "collapsed": false
   },
   "id": "477e375b15c744db"
  },
  {
   "cell_type": "markdown",
   "source": [
    "# Download the tinyllama model checkpoints from HF"
   ],
   "metadata": {
    "collapsed": false
   },
   "id": "5e04ac76b0a47934"
  },
  {
   "cell_type": "code",
   "execution_count": null,
   "outputs": [],
   "source": [
    "# https://huggingface.co/karpathy/tinyllamas/tree/main\n",
    "\n",
    "# Download the 15M model for example\n",
    "!wget https://huggingface.co/karpathy/tinyllamas/resolve/main/stories15M.pt"
   ],
   "metadata": {
    "collapsed": false
   },
   "id": "4f8f5db4d5452750"
  },
  {
   "cell_type": "markdown",
   "source": [
    "# Load the model"
   ],
   "metadata": {
    "collapsed": false
   },
   "id": "d4314c99b5e5b576"
  },
  {
   "cell_type": "code",
   "execution_count": null,
   "outputs": [],
   "source": [
    "from mbllama.model import get_model_from_ckpt\n",
    "\n",
    "model = get_model_from_ckpt('stories15M.pt')"
   ],
   "metadata": {
    "collapsed": false
   },
   "id": "5d560db4fc61cffe"
  },
  {
   "cell_type": "markdown",
   "source": [
    "# Run a simple generate"
   ],
   "metadata": {
    "collapsed": false
   },
   "id": "f8f456eaef4863e2"
  },
  {
   "cell_type": "code",
   "execution_count": null,
   "outputs": [],
   "source": [
    "prompt = \"Once upon a time,\"\n",
    "max_new_tokens = 50\n",
    "model.generate(prompt=prompt, max_new_tokens=max_new_tokens)"
   ],
   "metadata": {
    "collapsed": false
   },
   "id": "8f0738e427c8a9bd"
  }
 ],
 "metadata": {
  "kernelspec": {
   "display_name": "Python 3",
   "language": "python",
   "name": "python3"
  },
  "language_info": {
   "codemirror_mode": {
    "name": "ipython",
    "version": 2
   },
   "file_extension": ".py",
   "mimetype": "text/x-python",
   "name": "python",
   "nbconvert_exporter": "python",
   "pygments_lexer": "ipython2",
   "version": "2.7.6"
  }
 },
 "nbformat": 4,
 "nbformat_minor": 5
}
